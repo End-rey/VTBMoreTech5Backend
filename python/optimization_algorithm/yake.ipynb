{
 "cells": [
  {
   "cell_type": "code",
   "execution_count": 7,
   "id": "aa46f6b1",
   "metadata": {},
   "outputs": [],
   "source": [
    "import yake\n",
    "from typing import List"
   ]
  },
  {
   "cell_type": "code",
   "execution_count": 9,
   "id": "08e3d8f5",
   "metadata": {},
   "outputs": [],
   "source": [
    "def extraction(text: str) -> List[str]:\n",
    "    kw_extractor = yake.KeywordExtractor()\n",
    "    language = \"ru\"\n",
    "    max_ngram_size = 3\n",
    "    numOfKeywords = 5\n",
    "    custom_kw_extractor = yake.KeywordExtractor(lan=language, n=max_ngram_size, top=numOfKeywords, features=None)\n",
    "    keywords = custom_kw_extractor.extract_keywords(text)\n",
    "    ans = []\n",
    "    for kw, score in keywords:\n",
    "        ans.append(kw)\n",
    "    return ans"
   ]
  },
  {
   "cell_type": "code",
   "execution_count": 10,
   "id": "7615bc80",
   "metadata": {},
   "outputs": [
    {
     "data": {
      "text/plain": [
       "['хочу взять кредит',\n",
       " 'хочу купить золото',\n",
       " 'взять кредит',\n",
       " 'купить золото',\n",
       " 'хочу купить']"
      ]
     },
     "execution_count": 10,
     "metadata": {},
     "output_type": "execute_result"
    }
   ],
   "source": [
    "extraction('я хочу купить золото и хочу взять кредит')"
   ]
  },
  {
   "cell_type": "code",
   "execution_count": null,
   "id": "9ea7d25d",
   "metadata": {},
   "outputs": [],
   "source": []
  }
 ],
 "metadata": {
  "kernelspec": {
   "display_name": "Python 3 (ipykernel)",
   "language": "python",
   "name": "python3"
  },
  "language_info": {
   "codemirror_mode": {
    "name": "ipython",
    "version": 3
   },
   "file_extension": ".py",
   "mimetype": "text/x-python",
   "name": "python",
   "nbconvert_exporter": "python",
   "pygments_lexer": "ipython3",
   "version": "3.9.16"
  }
 },
 "nbformat": 4,
 "nbformat_minor": 5
}
