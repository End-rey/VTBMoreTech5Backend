{
 "cells": [
  {
   "cell_type": "code",
   "execution_count": 2,
   "id": "8264d86e",
   "metadata": {},
   "outputs": [],
   "source": [
    "from fastapi import FastAPI\n",
    "from pydantic import BaseModel\n",
    "import torch\n",
    "import torch.nn as nn\n",
    "\n",
    "app = FastAPI()\n",
    "\n",
    "class JustSigmoid(nn.Module):\n",
    "    def __init__(self):\n",
    "        super().__init__()\n",
    "        self.layer = nn.Sequential(\n",
    "                nn.Linear(3, 1)\n",
    "            )\n",
    "    def forward(self, x):\n",
    "        return self.layer(x)\n",
    "\n",
    "lean = JustSigmoid()\n",
    "lean.load_state_dict(torch.load('Weights/lean'))\n",
    "lean.eval()\n",
    "\n",
    "class InputData(BaseModel):\n",
    "    # Define your input data structure\n",
    "    feature1: float\n",
    "    feature2: float\n",
    "    feature3: float\n",
    "\n",
    "\n",
    "@app.post(\"/predict\")\n",
    "def predict(data: InputData):\n",
    "    input_tensor = torch.tensor([[data.feature1, data.feature2, data.feature3]], dtype=torch.float32)\n",
    "\n",
    "    with torch.no_grad():\n",
    "        output = lean(input_tensor)\n",
    "\n",
    "    result = {'prediction': output.item()}\n",
    "\n",
    "    return result"
   ]
  },
  {
   "cell_type": "code",
   "execution_count": null,
   "id": "afee50f5",
   "metadata": {},
   "outputs": [],
   "source": []
  }
 ],
 "metadata": {
  "kernelspec": {
   "display_name": "Python 3 (ipykernel)",
   "language": "python",
   "name": "python3"
  },
  "language_info": {
   "codemirror_mode": {
    "name": "ipython",
    "version": 3
   },
   "file_extension": ".py",
   "mimetype": "text/x-python",
   "name": "python",
   "nbconvert_exporter": "python",
   "pygments_lexer": "ipython3",
   "version": "3.9.16"
  }
 },
 "nbformat": 4,
 "nbformat_minor": 5
}
