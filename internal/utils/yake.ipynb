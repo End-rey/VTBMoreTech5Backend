{
 "cells": [
  {
   "cell_type": "code",
   "execution_count": 1,
   "id": "aa46f6b1",
   "metadata": {},
   "outputs": [
    {
     "name": "stdout",
     "output_type": "stream",
     "text": [
      "('хочу взять кредит', 0.03339840940482845)\n",
      "('купить золота', 0.04940384002065631)\n",
      "('миллион долларов', 0.04940384002065631)\n",
      "('золота и хочу', 0.09700399286574239)\n",
      "('хочу взять', 0.09700399286574239)\n"
     ]
    }
   ],
   "source": [
    "import yake\n",
    "kw_extractor = yake.KeywordExtractor()\n",
    "text = 'купить золота и хочу взять кредит на миллион долларов'\n",
    "language = \"ru\"\n",
    "max_ngram_size = 3\n",
    "numOfKeywords = 5\n",
    "custom_kw_extractor = yake.KeywordExtractor(lan=language, n=max_ngram_size, top=numOfKeywords, features=None)\n",
    "keywords = custom_kw_extractor.extract_keywords(text)\n",
    "for kw in keywords:\n",
    "    print(kw)"
   ]
  },
  {
   "cell_type": "code",
   "execution_count": null,
   "id": "27a01c31",
   "metadata": {},
   "outputs": [],
   "source": []
  },
  {
   "cell_type": "code",
   "execution_count": 49,
   "id": "f118062a",
   "metadata": {},
   "outputs": [],
   "source": [
    "import re\n",
    "from pymorphy2 import MorphAnalyzer\n",
    "from nltk.corpus import stopwords\n",
    "patterns = \"[A-Za-z0-9!#$%&'()*+,./:;<=>?@[\\]^_`{|}~—\\\"\\-]+\"\n",
    "stopwords_ru = stopwords.words(\"russian\")\n",
    "morph = MorphAnalyzer()\n",
    "def lemmatize(kw):\n",
    "    doc = re.sub(patterns, ' ', kw)\n",
    "    tokens = ''\n",
    "    for token in doc.split():\n",
    "        if token and token not in stopwords_ru:\n",
    "            token = token.strip()\n",
    "            token = morph.normal_forms(token)[0]\n",
    "            tokens += token\n",
    "    return tokens"
   ]
  },
  {
   "cell_type": "code",
   "execution_count": 7,
   "id": "d56a4f19",
   "metadata": {},
   "outputs": [
    {
     "name": "stdout",
     "output_type": "stream",
     "text": [
      "москва\n",
      "404\n",
      "пополнить\n",
      "404\n",
      "счёт\n",
      "404\n"
     ]
    }
   ],
   "source": [
    "for kw in keywords:\n",
    "    key_word, prob = kw\n",
    "    print(lemmatize(key_word))\n",
    "    print(services.get(lemmatize(key_word), '404'))"
   ]
  },
  {
   "cell_type": "code",
   "execution_count": 8,
   "id": "5f98c51a",
   "metadata": {},
   "outputs": [],
   "source": [
    "f = open('services.txt', 'r', encoding='utf-8')"
   ]
  },
  {
   "cell_type": "code",
   "execution_count": 9,
   "id": "0e31943b",
   "metadata": {},
   "outputs": [],
   "source": [
    "services = f.readlines()\n",
    "services = {services[i][:-1] : i for i in range(len(services))}"
   ]
  },
  {
   "cell_type": "code",
   "execution_count": 10,
   "id": "f8c9ccc5",
   "metadata": {},
   "outputs": [
    {
     "data": {
      "text/plain": [
       "{'пополнить': 0,\n",
       " 'снять': 1,\n",
       " 'перевести': 2,\n",
       " 'оплатить': 3,\n",
       " 'карта': 4,\n",
       " 'валюта': 5,\n",
       " 'металлы': 6,\n",
       " 'акции': 7,\n",
       " 'облигации': 8,\n",
       " 'счет': 9,\n",
       " 'вклад': 10,\n",
       " 'кредит': 11,\n",
       " 'ипотека': 12,\n",
       " 'деньги': 13}"
      ]
     },
     "execution_count": 10,
     "metadata": {},
     "output_type": "execute_result"
    }
   ],
   "source": [
    "services"
   ]
  },
  {
   "cell_type": "code",
   "execution_count": 11,
   "id": "ac27eb5c",
   "metadata": {},
   "outputs": [],
   "source": [
    "n = 14"
   ]
  },
  {
   "cell_type": "code",
   "execution_count": 13,
   "id": "7af99f68",
   "metadata": {},
   "outputs": [],
   "source": [
    "ds = []\n",
    "y = []\n",
    "for i in range(n):\n",
    "    with open(f'{i + 1}.txt', 'r', encoding='utf-8') as f:\n",
    "        ds += [service[:-1] for service in f.readlines()]\n",
    "    y = [i for _ in range(50)]"
   ]
  },
  {
   "cell_type": "code",
   "execution_count": null,
   "id": "f238ed9e",
   "metadata": {},
   "outputs": [],
   "source": []
  }
 ],
 "metadata": {
  "kernelspec": {
   "display_name": "Python 3 (ipykernel)",
   "language": "python",
   "name": "python3"
  },
  "language_info": {
   "codemirror_mode": {
    "name": "ipython",
    "version": 3
   },
   "file_extension": ".py",
   "mimetype": "text/x-python",
   "name": "python",
   "nbconvert_exporter": "python",
   "pygments_lexer": "ipython3",
   "version": "3.9.16"
  }
 },
 "nbformat": 4,
 "nbformat_minor": 5
}
